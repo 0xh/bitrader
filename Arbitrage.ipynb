{
 "cells": [
  {
   "cell_type": "code",
   "execution_count": 3,
   "metadata": {
    "collapsed": false
   },
   "outputs": [
    {
     "name": "stdout",
     "output_type": "stream",
     "text": [
      "Rands: 50365.00\n",
      "# forex conversion: 365.00\n",
      "Euro: 3008.52\n",
      "# kraken fee: 377.41\n",
      "Bitcoins: 4.95836000\n",
      "# bitx fee: 529.35\n",
      "Rands: 51564.40\n",
      "--------------------\n",
      "Profit: 1190.90\n",
      "ROI: 2.36\n",
      "--------------------\n",
      "ZAR/EUR: 16.54\n",
      "EUR/BTC: 605.18\n",
      "BTC/ZAR: 10504.50\n"
     ]
    }
   ],
   "source": [
    "import pandas as pd\n",
    "from decimal import *\n",
    "from dotenv import load_dotenv, find_dotenv\n",
    "from arbitrage_tools import *\n",
    "\n",
    "getcontext().prec = 6\n",
    "load_dotenv('.env')\n",
    "\n",
    "kraken_asks = prepare_order_book(kraken_order_book('asks'), 'asks')\n",
    "bitx_bids = prepare_order_book(bitx_order_book('bids'), 'bids')\n",
    "\n",
    "transfer_amount = Decimal(50000)\n",
    "fixed_currency_exchange = Decimal(16.711)\n",
    "\n",
    "new = True\n",
    "\n",
    "if new:\n",
    "    simulate(transfer_amount,  kraken_asks, bitx_bids, transfer_fees=True)\n",
    "else:\n",
    "    simulate(transfer_amount,  kraken_asks, bitx_bids, exchange_rate=fixed_currency_exchange, transfer_fees=False)\n"
   ]
  },
  {
   "cell_type": "code",
   "execution_count": 4,
   "metadata": {
    "collapsed": false
   },
   "outputs": [
    {
     "data": {
      "text/plain": [
       "2.986850079926228"
      ]
     },
     "execution_count": 4,
     "metadata": {},
     "output_type": "execute_result"
    }
   ],
   "source": [
    "original_zar = 50000\n",
    "original_euros = 2977.04 \n",
    "\n",
    "original_pre_fees = 365\n",
    "original_post_fee = 5\n",
    "original_currency_rate = 16.711\n",
    "\n",
    "euro = 1182.38\n",
    "\n",
    "currency_rate = original_currency_rate\n",
    "\n",
    "currency_pre_fees = original_pre_fees * (euro * currency_rate)/original_zar\n",
    "currency_post_fees = original_post_fee * euro/original_euros\n",
    "\n",
    "begin = (euro + currency_post_fees) * currency_rate + currency_pre_fees\n",
    "eind = 20531.64\n",
    "\n",
    "(eind/begin - 1) * 100\n",
    "\n",
    "(eind - begin)/begin * 100"
   ]
  },
  {
   "cell_type": "code",
   "execution_count": 5,
   "metadata": {
    "collapsed": false
   },
   "outputs": [
    {
     "name": "stdout",
     "output_type": "stream",
     "text": [
      "Populating the interactive namespace from numpy and matplotlib\n"
     ]
    }
   ],
   "source": [
    "%pylab inline"
   ]
  },
  {
   "cell_type": "code",
   "execution_count": null,
   "metadata": {
    "collapsed": false
   },
   "outputs": [],
   "source": [
    "import seaborn as sns"
   ]
  },
  {
   "cell_type": "code",
   "execution_count": 16,
   "metadata": {
    "collapsed": false
   },
   "outputs": [],
   "source": [
    "r = []\n",
    "for i in range(100):\n",
    "    r.append(\n",
    "        [  \n",
    "            (i+1)*1000,\n",
    "            simulate((i+1)*1000,  \n",
    "                     kraken_asks, bitx_bids, \n",
    "                     exchange_rate=fixed_currency_exchange, \n",
    "                     transfer_fees=False, verbose=False)['roi'],\n",
    "        ])\n",
    "\n",
    "df = pd.DataFrame(r, columns=['ZAR', 'ROI'])\n",
    "df = df.astype(float).set_index('ZAR')"
   ]
  },
  {
   "cell_type": "code",
   "execution_count": 20,
   "metadata": {
    "collapsed": false
   },
   "outputs": [
    {
     "data": {
      "text/plain": [
       "<matplotlib.axes._subplots.AxesSubplot at 0x10ba98c88>"
      ]
     },
     "execution_count": 20,
     "metadata": {},
     "output_type": "execute_result"
    },
    {
     "data": {
      "image/png": "[encoded data removed]",
      "text/plain": [
       "<matplotlib.figure.Figure at 0x10bb9a240>"
      ]
     },
     "metadata": {},
     "output_type": "display_data"
    }
   ],
   "source": [
    "df[df.ROI > 1][:50000].plot(lw=5, fontsize=16)"
   ]
  },
  {
   "cell_type": "code",
   "execution_count": 21,
   "metadata": {
    "collapsed": false
   },
   "outputs": [
    {
     "data": {
      "text/plain": [
       "ROI    3.0675\n",
       "dtype: float64"
      ]
     },
     "execution_count": 21,
     "metadata": {},
     "output_type": "execute_result"
    }
   ],
   "source": [
    "df.max()"
   ]
  },
  {
   "cell_type": "code",
   "execution_count": null,
   "metadata": {
    "collapsed": true
   },
   "outputs": [],
   "source": [
    "# OUL4M4\tbuy/market\tXBT/EUR\t€609.822\t0.20000000\t€121.964\tClosed\t07-02-16 09:50:21 +0200\n",
    "# AGB2OLW\t07-02-16 10:00:58 +0200\tBitcoin\t฿0.19950\t฿0.00050\t\n",
    "# Sell 0.011687 @ 10,631\tBTC/ZAR\t0.011687\t124.24\tBTC 0.000116\t7/2/2016, 11:23\n",
    "# Sell 0.197524 @ 10,650\tBTC/ZAR\t0.185838\t1,979.17\tBTC 0.001858\t7/2/2016, 11:20"
   ]
  }
 ],
 "metadata": {
  "kernelspec": {
   "display_name": "TPAM Python 3",
   "language": "python",
   "name": "tpam"
  }
 },
 "nbformat": 4,
 "nbformat_minor": 0
}
