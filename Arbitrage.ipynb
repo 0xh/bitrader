{
 "cells": [
  {
   "cell_type": "code",
   "execution_count": 1,
   "metadata": {
    "collapsed": true
   },
   "outputs": [],
   "source": [
    "import pandas as pd\n",
    "from decimal import *\n",
    "getcontext().prec = 6"
   ]
  },
  {
   "cell_type": "code",
   "execution_count": 2,
   "metadata": {
    "collapsed": false
   },
   "outputs": [
    {
     "data": {
      "text/plain": [
       "True"
      ]
     },
     "execution_count": 2,
     "metadata": {},
     "output_type": "execute_result"
    }
   ],
   "source": [
    "from dotenv import load_dotenv, find_dotenv\n",
    "load_dotenv('.env')"
   ]
  },
  {
   "cell_type": "code",
   "execution_count": 3,
   "metadata": {
    "collapsed": true
   },
   "outputs": [],
   "source": [
    "from arbitrage_tools import *"
   ]
  },
  {
   "cell_type": "code",
   "execution_count": 8,
   "metadata": {
    "collapsed": false
   },
   "outputs": [],
   "source": [
    "kraken_asks = prepare_order_book(kraken_order_book('asks'), 'asks')"
   ]
  },
  {
   "cell_type": "code",
   "execution_count": 9,
   "metadata": {
    "collapsed": false
   },
   "outputs": [],
   "source": [
    "bitx_bids = prepare_order_book(bitx_order_book('bids'), 'bids')"
   ]
  },
  {
   "cell_type": "code",
   "execution_count": 10,
   "metadata": {
    "collapsed": false
   },
   "outputs": [
    {
     "name": "stdout",
     "output_type": "stream",
     "text": [
      "Rands: 35287.00\n",
      "# forex conversion: 287.00\n",
      "Euro: 2088.07\n",
      "# kraken fee: 174.81\n",
      "Bitcoins: 3.60624000\n",
      "# bitx fee: 91.00\n",
      "Rands: 36274.30\n",
      "--------------------\n",
      "Profit: 978.80\n",
      "ROI: 2.77\n",
      "--------------------\n",
      "BTC/ZAR: 10160.40\n",
      "ZAR/EUR: 16.76\n"
     ]
    }
   ],
   "source": [
    "TRANSFER_AMOUNT = Decimal(35000)\n",
    "EXCHANGE_RATE = Decimal(16.711)\n",
    "\n",
    "simulate(TRANSFER_AMOUNT, kraken_asks, bitx_bids)"
   ]
  }
 ],
 "metadata": {
  "kernelspec": {
   "display_name": "TPAM Python 3",
   "language": "python",
   "name": "tpam"
  },
  "language_info": {
   "codemirror_mode": {
    "name": "ipython",
    "version": 3
   },
   "file_extension": ".py",
   "mimetype": "text/x-python",
   "name": "python",
   "nbconvert_exporter": "python",
   "pygments_lexer": "ipython3",
   "version": "3.5.1"
  }
 },
 "nbformat": 4,
 "nbformat_minor": 0
}
