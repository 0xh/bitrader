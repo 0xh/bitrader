{
 "cells": [
  {
   "cell_type": "code",
   "execution_count": 2,
   "metadata": {
    "collapsed": false
   },
   "outputs": [
    {
     "name": "stdout",
     "output_type": "stream",
     "text": [
      "Rands: 50365.00\n",
      "# forex conversion: 365.00\n",
      "Euro: 3010.81\n",
      "# kraken fee: 377.22\n",
      "Bitcoins: 4.96656000\n",
      "# bitx fee: 529.64\n",
      "Rands: 51592.80\n",
      "--------------------\n",
      "Profit: 1219.30\n",
      "ROI: 2.42\n",
      "--------------------\n",
      "ZAR/EUR: 16.52\n",
      "EUR/BTC: 604.64\n",
      "BTC/ZAR: 10493.00\n"
     ]
    }
   ],
   "source": [
    "import pandas as pd\n",
    "from decimal import *\n",
    "getcontext().prec = 6\n",
    "from dotenv import load_dotenv, find_dotenv\n",
    "load_dotenv('.env')\n",
    "from arbitrage_tools import *\n",
    "kraken_asks = prepare_order_book(kraken_order_book('asks'), 'asks')\n",
    "bitx_bids = prepare_order_book(bitx_order_book('bids'), 'bids')\n",
    "\n",
    "TRANSFER_AMOUNT = Decimal(50000)\n",
    "\n",
    "CURRENCY_EXCHANGE_RATE = Decimal(16.711)\n",
    "BITCOIN_EXCHANGE_RATE = Decimal(16.711)\n",
    "\n",
    "new = True\n",
    "\n",
    "if new:\n",
    "    simulate(TRANSFER_AMOUNT,  kraken_asks, bitx_bids, transfer_fees=True)\n",
    "else:\n",
    "    simulate(TRANSFER_AMOUNT,  kraken_asks, bitx_bids, exchange_rate=CURRENCY_EXCHANGE_RATE, transfer_fees=False)\n"
   ]
  },
  {
   "cell_type": "code",
   "execution_count": null,
   "metadata": {
    "collapsed": false
   },
   "outputs": [],
   "source": [
    "simulate(50000,  kraken_asks, bitx_bids, exchange_rate=EXCHANGE_RATE, transfer_fees=True)"
   ]
  },
  {
   "cell_type": "code",
   "execution_count": null,
   "metadata": {
    "collapsed": false
   },
   "outputs": [],
   "source": [
    "original_zar = 50000\n",
    "original_euros = 2977.04 \n",
    "\n",
    "original_pre_fees = 365\n",
    "original_post_fee = 5\n",
    "original_currency_rate = 16.711\n",
    "\n",
    "euro = 1182.38\n",
    "\n",
    "currency_rate = original_currency_rate\n",
    "\n",
    "currency_pre_fees = original_pre_fees * (euro * currency_rate)/original_zar\n",
    "currency_post_fees = original_post_fee * euro/original_euros\n",
    "\n",
    "begin = (euro + currency_post_fees) * currency_rate + currency_pre_fees\n",
    "eind = 20531.64"
   ]
  },
  {
   "cell_type": "code",
   "execution_count": null,
   "metadata": {
    "collapsed": false
   },
   "outputs": [],
   "source": [
    "(eind/begin - 1) * 100"
   ]
  },
  {
   "cell_type": "code",
   "execution_count": null,
   "metadata": {
    "collapsed": false
   },
   "outputs": [],
   "source": [
    "(eind - begin)/begin * 100"
   ]
  },
  {
   "cell_type": "code",
   "execution_count": null,
   "metadata": {
    "collapsed": false
   },
   "outputs": [],
   "source": [
    "((20531.64 / 19757.5698) - 1) * 100"
   ]
  },
  {
   "cell_type": "code",
   "execution_count": null,
   "metadata": {
    "collapsed": false
   },
   "outputs": [],
   "source": [
    "(20531.64 - 19757.5698) / 19757.5698 * 100"
   ]
  },
  {
   "cell_type": "code",
   "execution_count": null,
   "metadata": {
    "collapsed": true
   },
   "outputs": [],
   "source": [
    "import pandas as pd\n",
    "from decimal import *\n",
    "getcontext().prec = 6"
   ]
  },
  {
   "cell_type": "code",
   "execution_count": null,
   "metadata": {
    "collapsed": true
   },
   "outputs": [],
   "source": [
    "import seaborn as sns"
   ]
  },
  {
   "cell_type": "code",
   "execution_count": null,
   "metadata": {
    "collapsed": false
   },
   "outputs": [],
   "source": [
    "%pylab inline"
   ]
  },
  {
   "cell_type": "code",
   "execution_count": null,
   "metadata": {
    "collapsed": false
   },
   "outputs": [],
   "source": [
    "from dotenv import load_dotenv, find_dotenv\n",
    "load_dotenv('.env')"
   ]
  },
  {
   "cell_type": "code",
   "execution_count": null,
   "metadata": {
    "collapsed": true
   },
   "outputs": [],
   "source": [
    "from arbitrage_tools import *"
   ]
  },
  {
   "cell_type": "code",
   "execution_count": null,
   "metadata": {
    "collapsed": false
   },
   "outputs": [],
   "source": [
    "kraken_asks = prepare_order_book(kraken_order_book('asks'), 'asks')\n",
    "\n",
    "bitx_bids = prepare_order_book(bitx_order_book('bids'), 'bids')\n",
    "\n",
    "TRANSFER_AMOUNT = Decimal(50000)\n",
    "EXCHANGE_RATE = Decimal(16.711)\n",
    "\n",
    "simulate(TRANSFER_AMOUNT,  kraken_asks, bitx_bids, exchange_rate=EXCHANGE_RATE, transfer_fees=False)\n",
    "# simulate(TRANSFER_AMOUNT,  kraken_asks, bitx_bids, transfer_fees=True)"
   ]
  },
  {
   "cell_type": "code",
   "execution_count": null,
   "metadata": {
    "collapsed": true
   },
   "outputs": [],
   "source": [
    "# OUL4M4\tbuy/market\tXBT/EUR\t€609.822\t0.20000000\t€121.964\tClosed\t07-02-16 09:50:21 +0200\n",
    "# AGB2OLW\t07-02-16 10:00:58 +0200\tBitcoin\t฿0.19950\t฿0.00050\t\n",
    "# Sell 0.011687 @ 10,631\tBTC/ZAR\t0.011687\t124.24\tBTC 0.000116\t7/2/2016, 11:23\n",
    "# Sell 0.197524 @ 10,650\tBTC/ZAR\t0.185838\t1,979.17\tBTC 0.001858\t7/2/2016, 11:20"
   ]
  },
  {
   "cell_type": "code",
   "execution_count": null,
   "metadata": {
    "collapsed": false
   },
   "outputs": [],
   "source": [
    "124.24 + 1979.17"
   ]
  },
  {
   "cell_type": "code",
   "execution_count": null,
   "metadata": {
    "collapsed": false
   },
   "outputs": [],
   "source": [
    "2103.41 - (121.964 * 16.711)"
   ]
  },
  {
   "cell_type": "code",
   "execution_count": null,
   "metadata": {
    "collapsed": false
   },
   "outputs": [],
   "source": [
    "65.26959600000009 / (121.964 * 16.711)*100"
   ]
  },
  {
   "cell_type": "code",
   "execution_count": null,
   "metadata": {
    "collapsed": false
   },
   "outputs": [],
   "source": [
    "0.19950 * 10669.90"
   ]
  },
  {
   "cell_type": "code",
   "execution_count": null,
   "metadata": {
    "collapsed": false
   },
   "outputs": [],
   "source": [
    "(0.00050/0.20000)*100"
   ]
  },
  {
   "cell_type": "code",
   "execution_count": null,
   "metadata": {
    "collapsed": false
   },
   "outputs": [],
   "source": [
    "121.964 / 609.822"
   ]
  },
  {
   "cell_type": "code",
   "execution_count": null,
   "metadata": {
    "collapsed": false
   },
   "outputs": [],
   "source": [
    "0.00050 * 609.822"
   ]
  },
  {
   "cell_type": "code",
   "execution_count": null,
   "metadata": {
    "collapsed": false
   },
   "outputs": [],
   "source": [
    "0.304911 * 16.711"
   ]
  },
  {
   "cell_type": "code",
   "execution_count": null,
   "metadata": {
    "collapsed": false
   },
   "outputs": [],
   "source": [
    "5 / 2000"
   ]
  },
  {
   "cell_type": "code",
   "execution_count": null,
   "metadata": {
    "collapsed": false
   },
   "outputs": [],
   "source": [
    "r = []\n",
    "for i in range(100):\n",
    "    r.append(\n",
    "        [  \n",
    "            (i+1)*1000,\n",
    "            simulate((i+1)*1000,  kraken_asks, bitx_bids, exchange_rate=EXCHANGE_RATE, transfer_fees=False, verbose=False),\n",
    "        ])"
   ]
  },
  {
   "cell_type": "code",
   "execution_count": null,
   "metadata": {
    "collapsed": false
   },
   "outputs": [],
   "source": [
    "df = pd.DataFrame(r, columns=['ZAR', 'ROI'])\n",
    "df = df.astype(float).set_index('ZAR')"
   ]
  },
  {
   "cell_type": "code",
   "execution_count": null,
   "metadata": {
    "collapsed": false
   },
   "outputs": [],
   "source": [
    "df[df.ROI > 1].plot(lw=5, fontsize=16)"
   ]
  },
  {
   "cell_type": "code",
   "execution_count": null,
   "metadata": {
    "collapsed": false,
    "scrolled": true
   },
   "outputs": [],
   "source": [
    "df[df.ROI > 1][:50000].plot(lw=5, fontsize=16)"
   ]
  },
  {
   "cell_type": "code",
   "execution_count": null,
   "metadata": {
    "collapsed": false
   },
   "outputs": [],
   "source": [
    "df.max()"
   ]
  }
 ],
 "metadata": {
  "kernelspec": {
   "display_name": "TPAM Python 3",
   "language": "python",
   "name": "tpam"
  }
 },
 "nbformat": 4,
 "nbformat_minor": 0
}
